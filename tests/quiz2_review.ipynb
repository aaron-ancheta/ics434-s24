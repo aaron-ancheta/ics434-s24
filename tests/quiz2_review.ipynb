{
 "cells": [
  {
   "cell_type": "code",
   "execution_count": 28,
   "id": "4e8e50d8",
   "metadata": {},
   "outputs": [],
   "source": [
    "import matplotlib.pyplot as plt"
   ]
  },
  {
   "cell_type": "code",
   "execution_count": 1,
   "id": "c8e26b3e",
   "metadata": {},
   "outputs": [
    {
     "name": "stdout",
     "output_type": "stream",
     "text": [
      "iteration 1\n",
      "random_trials contains [1]\n",
      "1.0\n",
      "End of iteration 1 \n",
      "\n",
      "\n",
      "iteration 2\n",
      "random_trials contains [1, 0]\n",
      "0.5\n",
      "End of iteration 2 \n",
      "\n",
      "\n",
      "iteration 3\n",
      "random_trials contains [1, 0, 0]\n",
      "0.3333333333333333\n",
      "End of iteration 3 \n",
      "\n",
      "\n",
      "iteration 4\n",
      "random_trials contains [1, 0, 0, 1]\n",
      "0.5\n",
      "End of iteration 4 \n",
      "\n",
      "\n",
      "iteration 5\n",
      "random_trials contains [1, 0, 0, 1, 0]\n",
      "0.4\n",
      "End of iteration 5 \n",
      "\n",
      "\n",
      "iteration 6\n",
      "random_trials contains [1, 0, 0, 1, 0, 0]\n",
      "0.3333333333333333\n",
      "End of iteration 6 \n",
      "\n",
      "\n",
      "iteration 7\n",
      "random_trials contains [1, 0, 0, 1, 0, 0, 1]\n",
      "0.42857142857142855\n",
      "End of iteration 7 \n",
      "\n",
      "\n",
      "iteration 8\n",
      "random_trials contains [1, 0, 0, 1, 0, 0, 1, 0]\n",
      "0.375\n",
      "End of iteration 8 \n",
      "\n",
      "\n",
      "iteration 9\n",
      "random_trials contains [1, 0, 0, 1, 0, 0, 1, 0, 0]\n",
      "0.3333333333333333\n",
      "End of iteration 9 \n",
      "\n",
      "\n",
      "iteration 10\n",
      "random_trials contains [1, 0, 0, 1, 0, 0, 1, 0, 0, 0]\n",
      "0.3\n",
      "End of iteration 10 \n",
      "\n",
      "\n",
      "iteration 11\n",
      "random_trials contains [1, 0, 0, 1, 0, 0, 1, 0, 0, 0, 1]\n",
      "0.36363636363636365\n",
      "End of iteration 11 \n",
      "\n",
      "\n",
      "iteration 12\n",
      "random_trials contains [1, 0, 0, 1, 0, 0, 1, 0, 0, 0, 1, 1]\n",
      "0.4166666666666667\n",
      "End of iteration 12 \n",
      "\n",
      "\n",
      "iteration 13\n",
      "random_trials contains [1, 0, 0, 1, 0, 0, 1, 0, 0, 0, 1, 1, 1]\n",
      "0.46153846153846156\n",
      "End of iteration 13 \n",
      "\n",
      "\n",
      "iteration 14\n",
      "random_trials contains [1, 0, 0, 1, 0, 0, 1, 0, 0, 0, 1, 1, 1, 0]\n",
      "0.42857142857142855\n",
      "End of iteration 14 \n",
      "\n",
      "\n",
      "iteration 15\n",
      "random_trials contains [1, 0, 0, 1, 0, 0, 1, 0, 0, 0, 1, 1, 1, 0, 0]\n",
      "0.4\n",
      "End of iteration 15 \n",
      "\n",
      "\n",
      "iteration 16\n",
      "random_trials contains [1, 0, 0, 1, 0, 0, 1, 0, 0, 0, 1, 1, 1, 0, 0, 0]\n",
      "0.375\n",
      "End of iteration 16 \n",
      "\n",
      "\n",
      "iteration 17\n",
      "random_trials contains [1, 0, 0, 1, 0, 0, 1, 0, 0, 0, 1, 1, 1, 0, 0, 0, 0]\n",
      "0.35294117647058826\n",
      "End of iteration 17 \n",
      "\n",
      "\n",
      "iteration 18\n",
      "random_trials contains [1, 0, 0, 1, 0, 0, 1, 0, 0, 0, 1, 1, 1, 0, 0, 0, 0, 1]\n",
      "0.3888888888888889\n",
      "End of iteration 18 \n",
      "\n",
      "\n",
      "iteration 19\n",
      "random_trials contains [1, 0, 0, 1, 0, 0, 1, 0, 0, 0, 1, 1, 1, 0, 0, 0, 0, 1, 1]\n",
      "0.42105263157894735\n",
      "End of iteration 19 \n",
      "\n",
      "\n",
      "iteration 20\n",
      "random_trials contains [1, 0, 0, 1, 0, 0, 1, 0, 0, 0, 1, 1, 1, 0, 0, 0, 0, 1, 1, 1]\n",
      "0.45\n",
      "End of iteration 20 \n",
      "\n",
      "\n",
      "iteration 21\n",
      "random_trials contains [1, 0, 0, 1, 0, 0, 1, 0, 0, 0, 1, 1, 1, 0, 0, 0, 0, 1, 1, 1, 1]\n",
      "0.47619047619047616\n",
      "End of iteration 21 \n",
      "\n",
      "\n",
      "iteration 22\n",
      "random_trials contains [1, 0, 0, 1, 0, 0, 1, 0, 0, 0, 1, 1, 1, 0, 0, 0, 0, 1, 1, 1, 1, 0]\n",
      "0.45454545454545453\n",
      "End of iteration 22 \n",
      "\n",
      "\n",
      "iteration 23\n",
      "random_trials contains [1, 0, 0, 1, 0, 0, 1, 0, 0, 0, 1, 1, 1, 0, 0, 0, 0, 1, 1, 1, 1, 0, 0]\n",
      "0.43478260869565216\n",
      "End of iteration 23 \n",
      "\n",
      "\n",
      "iteration 24\n",
      "random_trials contains [1, 0, 0, 1, 0, 0, 1, 0, 0, 0, 1, 1, 1, 0, 0, 0, 0, 1, 1, 1, 1, 0, 0, 1]\n",
      "0.4583333333333333\n",
      "End of iteration 24 \n",
      "\n",
      "\n",
      "iteration 25\n",
      "random_trials contains [1, 0, 0, 1, 0, 0, 1, 0, 0, 0, 1, 1, 1, 0, 0, 0, 0, 1, 1, 1, 1, 0, 0, 1, 0]\n",
      "0.44\n",
      "End of iteration 25 \n",
      "\n",
      "\n",
      "iteration 26\n",
      "random_trials contains [1, 0, 0, 1, 0, 0, 1, 0, 0, 0, 1, 1, 1, 0, 0, 0, 0, 1, 1, 1, 1, 0, 0, 1, 0, 1]\n",
      "0.46153846153846156\n",
      "End of iteration 26 \n",
      "\n",
      "\n",
      "iteration 27\n",
      "random_trials contains [1, 0, 0, 1, 0, 0, 1, 0, 0, 0, 1, 1, 1, 0, 0, 0, 0, 1, 1, 1, 1, 0, 0, 1, 0, 1, 1]\n",
      "0.48148148148148145\n",
      "End of iteration 27 \n",
      "\n",
      "\n",
      "iteration 28\n",
      "random_trials contains [1, 0, 0, 1, 0, 0, 1, 0, 0, 0, 1, 1, 1, 0, 0, 0, 0, 1, 1, 1, 1, 0, 0, 1, 0, 1, 1, 0]\n",
      "0.4642857142857143\n",
      "End of iteration 28 \n",
      "\n",
      "\n",
      "iteration 29\n",
      "random_trials contains [1, 0, 0, 1, 0, 0, 1, 0, 0, 0, 1, 1, 1, 0, 0, 0, 0, 1, 1, 1, 1, 0, 0, 1, 0, 1, 1, 0, 1]\n",
      "0.4827586206896552\n",
      "End of iteration 29 \n",
      "\n",
      "\n",
      "iteration 30\n",
      "random_trials contains [1, 0, 0, 1, 0, 0, 1, 0, 0, 0, 1, 1, 1, 0, 0, 0, 0, 1, 1, 1, 1, 0, 0, 1, 0, 1, 1, 0, 1, 1]\n",
      "0.5\n",
      "End of iteration 30 \n",
      "\n",
      "\n",
      "iteration 31\n",
      "random_trials contains [1, 0, 0, 1, 0, 0, 1, 0, 0, 0, 1, 1, 1, 0, 0, 0, 0, 1, 1, 1, 1, 0, 0, 1, 0, 1, 1, 0, 1, 1, 0]\n",
      "0.4838709677419355\n",
      "End of iteration 31 \n",
      "\n",
      "\n",
      "iteration 32\n",
      "random_trials contains [1, 0, 0, 1, 0, 0, 1, 0, 0, 0, 1, 1, 1, 0, 0, 0, 0, 1, 1, 1, 1, 0, 0, 1, 0, 1, 1, 0, 1, 1, 0, 0]\n",
      "0.46875\n",
      "End of iteration 32 \n",
      "\n",
      "\n",
      "iteration 33\n",
      "random_trials contains [1, 0, 0, 1, 0, 0, 1, 0, 0, 0, 1, 1, 1, 0, 0, 0, 0, 1, 1, 1, 1, 0, 0, 1, 0, 1, 1, 0, 1, 1, 0, 0, 0]\n",
      "0.45454545454545453\n",
      "End of iteration 33 \n",
      "\n",
      "\n",
      "iteration 34\n",
      "random_trials contains [1, 0, 0, 1, 0, 0, 1, 0, 0, 0, 1, 1, 1, 0, 0, 0, 0, 1, 1, 1, 1, 0, 0, 1, 0, 1, 1, 0, 1, 1, 0, 0, 0, 0]\n",
      "0.4411764705882353\n",
      "End of iteration 34 \n",
      "\n",
      "\n",
      "iteration 35\n",
      "random_trials contains [1, 0, 0, 1, 0, 0, 1, 0, 0, 0, 1, 1, 1, 0, 0, 0, 0, 1, 1, 1, 1, 0, 0, 1, 0, 1, 1, 0, 1, 1, 0, 0, 0, 0, 0]\n",
      "0.42857142857142855\n",
      "End of iteration 35 \n",
      "\n",
      "\n",
      "iteration 36\n",
      "random_trials contains [1, 0, 0, 1, 0, 0, 1, 0, 0, 0, 1, 1, 1, 0, 0, 0, 0, 1, 1, 1, 1, 0, 0, 1, 0, 1, 1, 0, 1, 1, 0, 0, 0, 0, 0, 0]\n",
      "0.4166666666666667\n",
      "End of iteration 36 \n",
      "\n",
      "\n",
      "iteration 37\n",
      "random_trials contains [1, 0, 0, 1, 0, 0, 1, 0, 0, 0, 1, 1, 1, 0, 0, 0, 0, 1, 1, 1, 1, 0, 0, 1, 0, 1, 1, 0, 1, 1, 0, 0, 0, 0, 0, 0, 1]\n",
      "0.43243243243243246\n",
      "End of iteration 37 \n",
      "\n",
      "\n",
      "iteration 38\n",
      "random_trials contains [1, 0, 0, 1, 0, 0, 1, 0, 0, 0, 1, 1, 1, 0, 0, 0, 0, 1, 1, 1, 1, 0, 0, 1, 0, 1, 1, 0, 1, 1, 0, 0, 0, 0, 0, 0, 1, 1]\n",
      "0.4473684210526316\n",
      "End of iteration 38 \n",
      "\n",
      "\n",
      "iteration 39\n",
      "random_trials contains [1, 0, 0, 1, 0, 0, 1, 0, 0, 0, 1, 1, 1, 0, 0, 0, 0, 1, 1, 1, 1, 0, 0, 1, 0, 1, 1, 0, 1, 1, 0, 0, 0, 0, 0, 0, 1, 1, 1]\n",
      "0.46153846153846156\n",
      "End of iteration 39 \n",
      "\n",
      "\n",
      "iteration 40\n",
      "random_trials contains [1, 0, 0, 1, 0, 0, 1, 0, 0, 0, 1, 1, 1, 0, 0, 0, 0, 1, 1, 1, 1, 0, 0, 1, 0, 1, 1, 0, 1, 1, 0, 0, 0, 0, 0, 0, 1, 1, 1, 1]\n",
      "0.475\n",
      "End of iteration 40 \n",
      "\n",
      "\n",
      "iteration 41\n",
      "random_trials contains [1, 0, 0, 1, 0, 0, 1, 0, 0, 0, 1, 1, 1, 0, 0, 0, 0, 1, 1, 1, 1, 0, 0, 1, 0, 1, 1, 0, 1, 1, 0, 0, 0, 0, 0, 0, 1, 1, 1, 1, 0]\n",
      "0.4634146341463415\n",
      "End of iteration 41 \n",
      "\n",
      "\n",
      "iteration 42\n",
      "random_trials contains [1, 0, 0, 1, 0, 0, 1, 0, 0, 0, 1, 1, 1, 0, 0, 0, 0, 1, 1, 1, 1, 0, 0, 1, 0, 1, 1, 0, 1, 1, 0, 0, 0, 0, 0, 0, 1, 1, 1, 1, 0, 1]\n",
      "0.47619047619047616\n",
      "End of iteration 42 \n",
      "\n",
      "\n",
      "iteration 43\n",
      "random_trials contains [1, 0, 0, 1, 0, 0, 1, 0, 0, 0, 1, 1, 1, 0, 0, 0, 0, 1, 1, 1, 1, 0, 0, 1, 0, 1, 1, 0, 1, 1, 0, 0, 0, 0, 0, 0, 1, 1, 1, 1, 0, 1, 0]\n",
      "0.46511627906976744\n",
      "End of iteration 43 \n",
      "\n",
      "\n",
      "iteration 44\n",
      "random_trials contains [1, 0, 0, 1, 0, 0, 1, 0, 0, 0, 1, 1, 1, 0, 0, 0, 0, 1, 1, 1, 1, 0, 0, 1, 0, 1, 1, 0, 1, 1, 0, 0, 0, 0, 0, 0, 1, 1, 1, 1, 0, 1, 0, 0]\n",
      "0.45454545454545453\n",
      "End of iteration 44 \n",
      "\n",
      "\n",
      "iteration 45\n",
      "random_trials contains [1, 0, 0, 1, 0, 0, 1, 0, 0, 0, 1, 1, 1, 0, 0, 0, 0, 1, 1, 1, 1, 0, 0, 1, 0, 1, 1, 0, 1, 1, 0, 0, 0, 0, 0, 0, 1, 1, 1, 1, 0, 1, 0, 0, 0]\n",
      "0.4444444444444444\n",
      "End of iteration 45 \n",
      "\n",
      "\n",
      "iteration 46\n",
      "random_trials contains [1, 0, 0, 1, 0, 0, 1, 0, 0, 0, 1, 1, 1, 0, 0, 0, 0, 1, 1, 1, 1, 0, 0, 1, 0, 1, 1, 0, 1, 1, 0, 0, 0, 0, 0, 0, 1, 1, 1, 1, 0, 1, 0, 0, 0, 0]\n",
      "0.43478260869565216\n",
      "End of iteration 46 \n",
      "\n",
      "\n",
      "iteration 47\n",
      "random_trials contains [1, 0, 0, 1, 0, 0, 1, 0, 0, 0, 1, 1, 1, 0, 0, 0, 0, 1, 1, 1, 1, 0, 0, 1, 0, 1, 1, 0, 1, 1, 0, 0, 0, 0, 0, 0, 1, 1, 1, 1, 0, 1, 0, 0, 0, 0, 0]\n",
      "0.425531914893617\n",
      "End of iteration 47 \n",
      "\n",
      "\n",
      "iteration 48\n",
      "random_trials contains [1, 0, 0, 1, 0, 0, 1, 0, 0, 0, 1, 1, 1, 0, 0, 0, 0, 1, 1, 1, 1, 0, 0, 1, 0, 1, 1, 0, 1, 1, 0, 0, 0, 0, 0, 0, 1, 1, 1, 1, 0, 1, 0, 0, 0, 0, 0, 1]\n",
      "0.4375\n",
      "End of iteration 48 \n",
      "\n",
      "\n",
      "iteration 49\n",
      "random_trials contains [1, 0, 0, 1, 0, 0, 1, 0, 0, 0, 1, 1, 1, 0, 0, 0, 0, 1, 1, 1, 1, 0, 0, 1, 0, 1, 1, 0, 1, 1, 0, 0, 0, 0, 0, 0, 1, 1, 1, 1, 0, 1, 0, 0, 0, 0, 0, 1, 0]\n",
      "0.42857142857142855\n",
      "End of iteration 49 \n",
      "\n",
      "\n"
     ]
    }
   ],
   "source": [
    "import random\n",
    "\n",
    "# One way to do it\n",
    "random_trials = []\n",
    "for i in range(1,50):\n",
    "    random_trials.append(random.choice([0,1]))\n",
    "    print(f\"iteration {i}\")\n",
    "    print(f\"random_trials contains {random_trials}\")\n",
    "    print(sum(random_trials) / len(random_trials))\n",
    "    print(f\"End of iteration {i} \\n\\n\")"
   ]
  },
  {
   "cell_type": "code",
   "execution_count": 2,
   "id": "87c59e02",
   "metadata": {},
   "outputs": [
    {
     "data": {
      "text/plain": [
       "48"
      ]
     },
     "execution_count": 2,
     "metadata": {},
     "output_type": "execute_result"
    }
   ],
   "source": [
    "# Better way to do it\n",
    "\n",
    "random_trials = [random.choice([0,1]) for _ in range(1, 100)]\n",
    "sum(random_trials)"
   ]
  },
  {
   "cell_type": "code",
   "execution_count": 6,
   "id": "6a7dd2cf",
   "metadata": {},
   "outputs": [
    {
     "name": "stdout",
     "output_type": "stream",
     "text": [
      "==============================\n",
      "[1, 0, 1, 0, 1, 0, 0, 0, 0, 0]\n",
      "==============================\n",
      "[1, 1, 2, 2, 3, 3, 3, 3, 3, 3]\n"
     ]
    }
   ],
   "source": [
    "# cumsum()\n",
    "\n",
    "import numpy as np\n",
    "\n",
    "cumsum_random_trials = np.cumsum(random_trials)\n",
    "\n",
    "print(\"=\" * 30)\n",
    "print(random_trials[0:10])\n",
    "\n",
    "print(\"=\" * 30)\n",
    "print(list(cumsum_random_trials[0:10]))"
   ]
  },
  {
   "cell_type": "code",
   "execution_count": 16,
   "id": "002e8a7a",
   "metadata": {},
   "outputs": [
    {
     "name": "stdout",
     "output_type": "stream",
     "text": [
      "==============================\n",
      "[1, 0, 1, 0, 1, 0]\n",
      "==============================\n",
      "[1, 1, 2, 2, 3, 3]\n",
      "==============================\n",
      "[1.0, 0.5, 0.6666666666666666, 0.5, 0.6, 0.5]\n"
     ]
    }
   ],
   "source": [
    "#print(range(1, len(cumsum_random_trials + 1)))\n",
    "cum_prop_heads = cumsum_random_trials / range(1, len(cumsum_random_trials)+1)\n",
    "\n",
    "print(\"=\" * 30)\n",
    "print(random_trials[0:6])\n",
    "print(\"=\" * 30)\n",
    "print(list(cumsum_random_trials[0:6]))\n",
    "print(\"=\" * 30)\n",
    "print(list(cum_prop_heads[0:6]))"
   ]
  },
  {
   "cell_type": "code",
   "execution_count": 19,
   "id": "d1ee563a",
   "metadata": {},
   "outputs": [],
   "source": [
    "from itertools import compress\n",
    "\n",
    "def monty_hall(n=10_1000, switch = False):\n",
    "    nb_wins = 0\n",
    "    doors = np.array([\"GOAT\", \"CAR\", \"GOAT\"])\n",
    "    for i in range(n):\n",
    "        random.shuffle(doors)\n",
    "        my_pick = random.choice([0, 1, 2])\n",
    "        remaining_doors = list(set([0,1,2]).difference([my_pick]))\n",
    "        goat_doors = list(compress(remaining_doors, doors[remaining_doors] == \"GOAT\"))\n",
    "        reveal_door = random.choice(goat_doors)\n",
    "        if switch:\n",
    "            my_pick = list(set([0, 1, 2]).difference([my_pick, reveal_door]))[0]\n",
    "        if doors[my_pick] == \"CAR\":\n",
    "            nb_wins += 1\n",
    "    return nb_wins"
   ]
  },
  {
   "cell_type": "code",
   "execution_count": 20,
   "id": "f7314b2e",
   "metadata": {},
   "outputs": [
    {
     "data": {
      "text/plain": [
       "66643"
      ]
     },
     "execution_count": 20,
     "metadata": {},
     "output_type": "execute_result"
    }
   ],
   "source": [
    "monty_hall(n=100_000, switch = True)"
   ]
  },
  {
   "cell_type": "code",
   "execution_count": 21,
   "id": "d4443a28",
   "metadata": {},
   "outputs": [
    {
     "data": {
      "text/plain": [
       "33365"
      ]
     },
     "execution_count": 21,
     "metadata": {},
     "output_type": "execute_result"
    }
   ],
   "source": [
    "monty_hall(n=100_000, switch = False)"
   ]
  },
  {
   "cell_type": "code",
   "execution_count": 22,
   "id": "9f7b22d4",
   "metadata": {},
   "outputs": [],
   "source": [
    "# Non-Uniform Probabilities\n",
    "# Problem 1: In 100 people, 3 will volunteer\n",
    "# what is the probability of getting 30 people if you sent out 1200 emails\n",
    "\n",
    "# In 100 people, 3 will volunteer\n",
    "population = [0] * 97 + [1] * 3"
   ]
  },
  {
   "cell_type": "code",
   "execution_count": 26,
   "id": "48ee1680",
   "metadata": {},
   "outputs": [],
   "source": [
    "def get_random_sample (population, nb_samples):\n",
    "    nb_volunteers = 0\n",
    "    for _ in range(nb_samples):\n",
    "        nb_volunteers += random.choice(population)\n",
    "    return nb_volunteers"
   ]
  },
  {
   "cell_type": "code",
   "execution_count": 27,
   "id": "49f01eeb",
   "metadata": {},
   "outputs": [
    {
     "data": {
      "text/plain": [
       "34"
      ]
     },
     "execution_count": 27,
     "metadata": {},
     "output_type": "execute_result"
    }
   ],
   "source": [
    "get_random_sample(population, 1200)"
   ]
  },
  {
   "cell_type": "code",
   "execution_count": 29,
   "id": "437ba2cf",
   "metadata": {},
   "outputs": [],
   "source": [
    "nb_satisfied = 0\n",
    "nb_trials = 10000\n",
    "nb_volunteers_per_exp = []\n",
    "for i in range(nb_trials):\n",
    "    nb_volunteers = get_random_sample(population, 1200)\n",
    "    nb_volunteers_per_exp.append(nb_volunteers)\n"
   ]
  },
  {
   "cell_type": "code",
   "execution_count": 30,
   "id": "eadff075",
   "metadata": {},
   "outputs": [
    {
     "data": {
      "image/png": "[encoded data removed]",
      "text/plain": [
       "<Figure size 1008x432 with 1 Axes>"
      ]
     },
     "metadata": {
      "needs_background": "light"
     },
     "output_type": "display_data"
    }
   ],
   "source": [
    "plt.figure(figsize=(14, 6))\n",
    "_ = plt.hist(nb_volunteers_per_exp, edgecolor='black', linewidth=1.2)"
   ]
  },
  {
   "cell_type": "code",
   "execution_count": 31,
   "id": "3a6f8f2f",
   "metadata": {},
   "outputs": [
    {
     "data": {
      "text/plain": [
       "8252"
      ]
     },
     "execution_count": 31,
     "metadata": {},
     "output_type": "execute_result"
    }
   ],
   "source": [
    "nb_satisfied = sum(np.array(nb_volunteers_per_exp) > 30)\n",
    "\n",
    "nb_satisfied"
   ]
  },
  {
   "cell_type": "code",
   "execution_count": 32,
   "id": "31522e36",
   "metadata": {},
   "outputs": [
    {
     "name": "stdout",
     "output_type": "stream",
     "text": [
      "0.8252\n"
     ]
    }
   ],
   "source": [
    "print(nb_satisfied/nb_trials)"
   ]
  },
  {
   "cell_type": "code",
   "execution_count": 33,
   "id": "fa842e4b",
   "metadata": {},
   "outputs": [],
   "source": [
    "import numpy as np\n",
    "import random"
   ]
  },
  {
   "cell_type": "code",
   "execution_count": 34,
   "id": "37440ea5",
   "metadata": {},
   "outputs": [],
   "source": [
    "die_choice = [1,2,3,4,5,6]"
   ]
  },
  {
   "cell_type": "code",
   "execution_count": 48,
   "id": "a74ac110",
   "metadata": {},
   "outputs": [
    {
     "data": {
      "text/plain": [
       "5"
      ]
     },
     "execution_count": 48,
     "metadata": {},
     "output_type": "execute_result"
    }
   ],
   "source": [
    "random.choice(die_choice)"
   ]
  },
  {
   "cell_type": "code",
   "execution_count": 43,
   "id": "92b9f0d4",
   "metadata": {},
   "outputs": [],
   "source": [
    "die_result = []\n",
    "for i in range(1, 120_000_000):\n",
    "    die_result.append(random.choice(die_choice))"
   ]
  },
  {
   "cell_type": "code",
   "execution_count": 44,
   "id": "a1d68980",
   "metadata": {},
   "outputs": [],
   "source": [
    "import pandas as pd"
   ]
  },
  {
   "cell_type": "code",
   "execution_count": 45,
   "id": "f3ee1399",
   "metadata": {},
   "outputs": [],
   "source": [
    "from collections import Counter"
   ]
  },
  {
   "cell_type": "code",
   "execution_count": 49,
   "id": "a380e304",
   "metadata": {},
   "outputs": [
    {
     "data": {
      "text/plain": [
       "3    0.166730\n",
       "6    0.166631\n",
       "1    0.166666\n",
       "4    0.166695\n",
       "2    0.166678\n",
       "5    0.166598\n",
       "dtype: float64"
      ]
     },
     "execution_count": 49,
     "metadata": {},
     "output_type": "execute_result"
    }
   ],
   "source": [
    "pd.Series(Counter(die_result))/120_000_000"
   ]
  },
  {
   "cell_type": "code",
   "execution_count": 50,
   "id": "b74b635c",
   "metadata": {},
   "outputs": [
    {
     "name": "stdout",
     "output_type": "stream",
     "text": [
      "0.16666666666666666\n"
     ]
    }
   ],
   "source": [
    "print(1/6)"
   ]
  },
  {
   "cell_type": "code",
   "execution_count": 52,
   "id": "c13f5aa7",
   "metadata": {},
   "outputs": [],
   "source": [
    "import pandas as pd\n",
    "import random\n",
    "data = pd.Series([1,1,1,1,1,1,1,1, 2,3,4,5,6])"
   ]
  },
  {
   "cell_type": "code",
   "execution_count": 53,
   "id": "91837851",
   "metadata": {},
   "outputs": [
    {
     "data": {
      "text/plain": [
       "1    8\n",
       "2    1\n",
       "3    1\n",
       "4    1\n",
       "5    1\n",
       "6    1\n",
       "dtype: int64"
      ]
     },
     "execution_count": 53,
     "metadata": {},
     "output_type": "execute_result"
    }
   ],
   "source": [
    "data.value_counts()"
   ]
  },
  {
   "cell_type": "code",
   "execution_count": 54,
   "id": "308f254d",
   "metadata": {},
   "outputs": [
    {
     "data": {
      "text/plain": [
       "1    8\n",
       "2    1\n",
       "3    1\n",
       "4    1\n",
       "5    1\n",
       "6    1\n",
       "dtype: int64"
      ]
     },
     "execution_count": 54,
     "metadata": {},
     "output_type": "execute_result"
    }
   ],
   "source": [
    "outcome = data.value_counts()\n",
    "\n",
    "outcome"
   ]
  },
  {
   "cell_type": "code",
   "execution_count": 55,
   "id": "74be982c",
   "metadata": {},
   "outputs": [],
   "source": [
    "prob = outcome / outcome.sum()"
   ]
  },
  {
   "cell_type": "code",
   "execution_count": 58,
   "id": "cc630615",
   "metadata": {},
   "outputs": [],
   "source": [
    "data_f = pd.DataFrame({\"Outcome\": outcome , \"Probabilities\": prob})"
   ]
  },
  {
   "cell_type": "code",
   "execution_count": 59,
   "id": "542a8db6",
   "metadata": {},
   "outputs": [
    {
     "data": {
      "text/html": [
       "<div>\n",
       "<style scoped>\n",
       "    .dataframe tbody tr th:only-of-type {\n",
       "        vertical-align: middle;\n",
       "    }\n",
       "\n",
       "    .dataframe tbody tr th {\n",
       "        vertical-align: top;\n",
       "    }\n",
       "\n",
       "    .dataframe thead th {\n",
       "        text-align: right;\n",
       "    }\n",
       "</style>\n",
       "<table border=\"1\" class=\"dataframe\">\n",
       "  <thead>\n",
       "    <tr style=\"text-align: right;\">\n",
       "      <th></th>\n",
       "      <th>Outcome</th>\n",
       "      <th>Probabilities</th>\n",
       "    </tr>\n",
       "  </thead>\n",
       "  <tbody>\n",
       "    <tr>\n",
       "      <th>1</th>\n",
       "      <td>8</td>\n",
       "      <td>0.615385</td>\n",
       "    </tr>\n",
       "    <tr>\n",
       "      <th>2</th>\n",
       "      <td>1</td>\n",
       "      <td>0.076923</td>\n",
       "    </tr>\n",
       "    <tr>\n",
       "      <th>3</th>\n",
       "      <td>1</td>\n",
       "      <td>0.076923</td>\n",
       "    </tr>\n",
       "    <tr>\n",
       "      <th>4</th>\n",
       "      <td>1</td>\n",
       "      <td>0.076923</td>\n",
       "    </tr>\n",
       "    <tr>\n",
       "      <th>5</th>\n",
       "      <td>1</td>\n",
       "      <td>0.076923</td>\n",
       "    </tr>\n",
       "    <tr>\n",
       "      <th>6</th>\n",
       "      <td>1</td>\n",
       "      <td>0.076923</td>\n",
       "    </tr>\n",
       "  </tbody>\n",
       "</table>\n",
       "</div>"
      ],
      "text/plain": [
       "   Outcome  Probabilities\n",
       "1        8       0.615385\n",
       "2        1       0.076923\n",
       "3        1       0.076923\n",
       "4        1       0.076923\n",
       "5        1       0.076923\n",
       "6        1       0.076923"
      ]
     },
     "execution_count": 59,
     "metadata": {},
     "output_type": "execute_result"
    }
   ],
   "source": [
    "data_f"
   ]
  },
  {
   "cell_type": "code",
   "execution_count": 60,
   "id": "1c5ba843",
   "metadata": {},
   "outputs": [],
   "source": [
    "# Probability Distribution"
   ]
  },
  {
   "cell_type": "code",
   "execution_count": 63,
   "id": "872bbfee",
   "metadata": {},
   "outputs": [
    {
     "name": "stdout",
     "output_type": "stream",
     "text": [
      "{1: 513, 2: 1139, 3: 3367, 4: 838, 5: 689, 6: 3454}\n"
     ]
    },
    {
     "data": {
      "image/png": "[encoded data removed]",
      "text/plain": [
       "<Figure size 864x288 with 1 Axes>"
      ]
     },
     "metadata": {
      "needs_background": "light"
     },
     "output_type": "display_data"
    }
   ],
   "source": [
    "from collections import Counter\n",
    "\n",
    "roll_random_var_list = np.random.choice([1,2,3,4,5,6], size = 10000,\n",
    "                                       p=[0.3/6, 0.7/6, 2/6, 0.5/6, 0.4/6, 2.1/6])\n",
    "\n",
    "counts = Counter(roll_random_var_list)\n",
    "\n",
    "sorted_counts = dict(sorted(counts.items()))\n",
    "print (sorted_counts)\n",
    "\n",
    "plt.figure(figsize=(12, 4))\n",
    "_ = plt.bar(sorted_counts.keys(), sorted_counts.values())"
   ]
  },
  {
   "cell_type": "code",
   "execution_count": 64,
   "id": "75498cdd",
   "metadata": {},
   "outputs": [
    {
     "data": {
      "text/plain": [
       "0.1171875"
      ]
     },
     "execution_count": 64,
     "metadata": {},
     "output_type": "execute_result"
    }
   ],
   "source": [
    "from scipy.stats import binom\n",
    "\n",
    "n = 10 \n",
    "p = 0.5\n",
    "binom.pmf(3, n, p)"
   ]
  },
  {
   "cell_type": "code",
   "execution_count": 67,
   "id": "4d2d0a1e",
   "metadata": {},
   "outputs": [
    {
     "data": {
      "text/plain": [
       "56.779999999999994"
      ]
     },
     "execution_count": 67,
     "metadata": {},
     "output_type": "execute_result"
    }
   ],
   "source": [
    "(38.3 + 42.5 + 59.1 + 67.9 + 76.1) / 5"
   ]
  },
  {
   "cell_type": "code",
   "execution_count": 69,
   "id": "b2fa0bd5",
   "metadata": {},
   "outputs": [
    {
     "data": {
      "text/plain": [
       "5"
      ]
     },
     "execution_count": 69,
     "metadata": {},
     "output_type": "execute_result"
    }
   ],
   "source": [
    "import statistics as st\n",
    "values = [1, 2, 3, 4, 5, 6, 7, 8, 9]\n",
    "\n",
    "avg = st.mean(values)\n",
    "avg"
   ]
  },
  {
   "cell_type": "code",
   "execution_count": 72,
   "id": "a9163c3f",
   "metadata": {},
   "outputs": [
    {
     "name": "stdout",
     "output_type": "stream",
     "text": [
      "False\n",
      "True\n"
     ]
    }
   ],
   "source": [
    "set_a = [1,1,1,2,2,2,100,100,100,100]\n",
    "set_b = [0,0,1,1,1,2,2,2,2,100]\n",
    "\n",
    "mean_a = st.mean(set_a)\n",
    "median_a = st.median(set_a)\n",
    "mode_a = st.mode(set_a)\n",
    "\n",
    "mean_b = st.mean(set_b)\n",
    "median_b = st.median(set_b)\n",
    "mode_b = st.mode(set_b)\n",
    "\n",
    "print (median_a < mode_a < mean_a)\n",
    "print (median_b < mode_b < mean_b)"
   ]
  },
  {
   "cell_type": "code",
   "execution_count": null,
   "id": "f9e091df",
   "metadata": {},
   "outputs": [],
   "source": []
  }
 ],
 "metadata": {
  "kernelspec": {
   "display_name": "Python 3 (ipykernel)",
   "language": "python",
   "name": "python3"
  },
  "language_info": {
   "codemirror_mode": {
    "name": "ipython",
    "version": 3
   },
   "file_extension": ".py",
   "mimetype": "text/x-python",
   "name": "python",
   "nbconvert_exporter": "python",
   "pygments_lexer": "ipython3",
   "version": "3.9.12"
  }
 },
 "nbformat": 4,
 "nbformat_minor": 5
}
