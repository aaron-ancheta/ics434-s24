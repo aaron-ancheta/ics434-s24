{
 "cells": [
  {
   "cell_type": "code",
   "execution_count": 34,
   "id": "9f29ef6e",
   "metadata": {},
   "outputs": [],
   "source": [
    "import pandas as pd\n",
    "from fractions import Fraction"
   ]
  },
  {
   "cell_type": "code",
   "execution_count": 12,
   "id": "c62803e1",
   "metadata": {},
   "outputs": [
    {
     "name": "stdout",
     "output_type": "stream",
     "text": [
      "ran2\n"
     ]
    }
   ],
   "source": [
    "data_1 = pd.Series([2,5,8,12,18,20,25])\n",
    "data_2 = pd.Series([1000,1021,1023,1025,1025,1025])\n",
    "\n",
    "ran1 = data_1.max() - data_1.min()\n",
    "ran2 = data_2.max() - data_2.min()\n",
    "\n",
    "if (ran1 > ran2):\n",
    "    print(\"ran1\")\n",
    "else:\n",
    "    print(\"ran2\")"
   ]
  },
  {
   "cell_type": "code",
   "execution_count": null,
   "id": "f6fc67f7",
   "metadata": {},
   "outputs": [],
   "source": []
  },
  {
   "cell_type": "code",
   "execution_count": 14,
   "id": "30084ef9",
   "metadata": {},
   "outputs": [
    {
     "name": "stdout",
     "output_type": "stream",
     "text": [
      "The mean is 6.0\n"
     ]
    }
   ],
   "source": [
    "data_3 = pd.Series([1,1,2,5,5,6,7,9,9,15])\n",
    "print (f\"The mean is {data_3.mean()}\")"
   ]
  },
  {
   "cell_type": "code",
   "execution_count": 21,
   "id": "6f510d81",
   "metadata": {},
   "outputs": [
    {
     "data": {
      "text/plain": [
       "[5.0, 5.0, 4.0, 1.0, 1.0, 0.0, 1.0, 3.0, 3.0, 9.0]"
      ]
     },
     "execution_count": 21,
     "metadata": {},
     "output_type": "execute_result"
    }
   ],
   "source": [
    "list1 = []\n",
    "for i in data_3:\n",
    "    list1.append(abs(i - data_3.mean()))\n",
    "list1"
   ]
  },
  {
   "cell_type": "code",
   "execution_count": 22,
   "id": "8d97149f",
   "metadata": {},
   "outputs": [
    {
     "data": {
      "text/plain": [
       "3.2"
      ]
     },
     "execution_count": 22,
     "metadata": {},
     "output_type": "execute_result"
    }
   ],
   "source": [
    "pd.Series(list1).mean()"
   ]
  },
  {
   "cell_type": "code",
   "execution_count": 29,
   "id": "be1de1f7",
   "metadata": {},
   "outputs": [],
   "source": [
    "def mean_abs_dev(data):\n",
    "    mean = pd.Series(data).mean()\n",
    "    \n",
    "    absolute_deviations = [abs(i - mean) for i in data]\n",
    "    \n",
    "    mad = pd.Series(absolute_deviations).mean()\n",
    "    \n",
    "    return mad"
   ]
  },
  {
   "cell_type": "code",
   "execution_count": 30,
   "id": "c007da97",
   "metadata": {},
   "outputs": [],
   "source": [
    "def med_abs_dev(data):\n",
    "    median = pd.Series(data).median()\n",
    "    \n",
    "    absolute_deviations = [abs(i - median) for i in data]\n",
    "    \n",
    "    mad = pd.Series(absolute_deviations).median()\n",
    "    \n",
    "    return mad"
   ]
  },
  {
   "cell_type": "code",
   "execution_count": 28,
   "id": "99c71296",
   "metadata": {},
   "outputs": [
    {
     "name": "stdout",
     "output_type": "stream",
     "text": [
      "4.0\n",
      "4.0\n"
     ]
    }
   ],
   "source": [
    "data_4 = pd.Series([1,13,13,13,13,25])\n",
    "data_5 = pd.Series([6,6,6,14,14,14])\n",
    "\n",
    "print(f\"{mean_abs_dev(data_4)}\")\n",
    "print(f\"{mean_abs_dev(data_5)}\")"
   ]
  },
  {
   "cell_type": "code",
   "execution_count": 31,
   "id": "c346566c",
   "metadata": {},
   "outputs": [
    {
     "name": "stdout",
     "output_type": "stream",
     "text": [
      "24.0\n",
      "2.0\n"
     ]
    }
   ],
   "source": [
    "data_6 = pd.Series([1,2,3,14,80])\n",
    "\n",
    "print(f\"{mean_abs_dev(data_6)}\")\n",
    "print(f\"{med_abs_dev(data_6)}\")"
   ]
  },
  {
   "cell_type": "code",
   "execution_count": 33,
   "id": "0df03897",
   "metadata": {},
   "outputs": [
    {
     "data": {
      "text/plain": [
       "3.6"
      ]
     },
     "execution_count": 33,
     "metadata": {},
     "output_type": "execute_result"
    }
   ],
   "source": [
    "def variance(data):\n",
    "    mean = pd.Series(data).mean()\n",
    "    \n",
    "    squared_deviation = [pow(abs(i - mean), 2) for i in data]\n",
    "    \n",
    "    msd = pd.Series(squared_deviation).mean()\n",
    "    \n",
    "    return msd\n",
    "\n",
    "var_1 = variance(pd.Series([1,1,3,4,6]))\n",
    "var_1"
   ]
  },
  {
   "cell_type": "code",
   "execution_count": 38,
   "id": "66ae8d6a",
   "metadata": {},
   "outputs": [
    {
     "data": {
      "text/plain": [
       "Fraction(8106479329266893, 2251799813685248)"
      ]
     },
     "execution_count": 38,
     "metadata": {},
     "output_type": "execute_result"
    }
   ],
   "source": [
    "fraction_val = Fraction(3.6)\n"
   ]
  },
  {
   "cell_type": "code",
   "execution_count": 39,
   "id": "8328ac0f",
   "metadata": {},
   "outputs": [
    {
     "name": "stdout",
     "output_type": "stream",
     "text": [
      "The standard deviation is 7.905694150420948\n"
     ]
    }
   ],
   "source": [
    "data = pd.Series([5,10,15,20,25])\n",
    "\n",
    "print(f\"The standard deviation is {data.std()}\")"
   ]
  },
  {
   "cell_type": "code",
   "execution_count": 40,
   "id": "0f9433ad",
   "metadata": {},
   "outputs": [
    {
     "name": "stdout",
     "output_type": "stream",
     "text": [
      "4.0\n",
      "11.0\n",
      "3.3166247903554\n",
      "2.4\n"
     ]
    }
   ],
   "source": [
    "data = pd.Series([1,1,4,5,9])\n",
    "\n",
    "print(f\"{data.mean()}\")\n",
    "print(f\"{data.var()}\")\n",
    "print(f\"{data.std()}\")\n",
    "print(f\"{data.mad()}\")"
   ]
  },
  {
   "cell_type": "code",
   "execution_count": null,
   "id": "a58099e3",
   "metadata": {},
   "outputs": [],
   "source": []
  }
 ],
 "metadata": {
  "kernelspec": {
   "display_name": "Python 3 (ipykernel)",
   "language": "python",
   "name": "python3"
  },
  "language_info": {
   "codemirror_mode": {
    "name": "ipython",
    "version": 3
   },
   "file_extension": ".py",
   "mimetype": "text/x-python",
   "name": "python",
   "nbconvert_exporter": "python",
   "pygments_lexer": "ipython3",
   "version": "3.9.12"
  }
 },
 "nbformat": 4,
 "nbformat_minor": 5
}
