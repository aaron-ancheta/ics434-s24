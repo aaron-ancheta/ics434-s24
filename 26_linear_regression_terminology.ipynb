{
 "cells": [
  {
   "cell_type": "code",
   "execution_count": 19,
   "id": "54b445b9",
   "metadata": {},
   "outputs": [],
   "source": [
    "import pandas as pd\n",
    "import numpy as np\n",
    "np.set_printoptions(suppress=True)"
   ]
  },
  {
   "cell_type": "markdown",
   "id": "97ebcc9d",
   "metadata": {},
   "source": [
    "# Introduction to Simple Linear Regression\n"
   ]
  },
  {
   "cell_type": "markdown",
   "id": "6393e9b2",
   "metadata": {},
   "source": [
    "### Goal of Regression Analysis\n",
    "- A common goal in statistics is to answer the question: \"Is the variable X (or more likely, X1, ..., Xp) associated with a variable Y, and if so, what is the relationship and can we use it to predict Y?\"\n",
    "- This process of training a model on data where the outcome is known, for subsequent application to data where the outcome is not known, is termed supervised learning.\n"
   ]
  },
  {
   "cell_type": "markdown",
   "id": "4babd70a",
   "metadata": {},
   "source": [
    "### Simple Linear Regression\n",
    "- Simple linear regression provides a model of the relationship between the magnitude of one variable and that of a second.\n",
    "  - For example, as X increases, Y also increases, or as X increases, Y decreases.\n",
    "- Correlation is another way to measure how two variables are related.\n",
    "- The difference is that while correlation measures the strength of an association between two variables, regression quantifies the nature of the relationship.\n"
   ]
  },
  {
   "cell_type": "markdown",
   "id": "83574599",
   "metadata": {},
   "source": [
    "### Key Terms\n",
    "\n",
    "- Response: The variable we are trying to predict.\n",
    "  - Synonyms: dependent variable, Y variable, target, outcome\n",
    "- Independent variable: The variable used to predict the response.\n",
    "  - Synonyms: X variable, feature, attribute, predictor\n",
    "- Intercept: The intercept of the regression line—that is, the predicted value when X = 0.\n",
    "  - Synonyms: b0, β0\n",
    "- Regression coefficient: The slope of the regression line.\n",
    "  - Synonyms: slope, b1, β1\n",
    "  - b0 and b1 are often called parameter estimates, weights\n",
    "- Fitted values: The estimates Yi obtained from the regression line.\n",
    "  - Synonym: predicted values\n",
    "- Residuals: The difference between the observed values and the fitted values.\n",
    "  - Synonym: errors\n",
    "- Least squares: The method of fitting a regression by minimizing the sum of squared residuals.\n",
    "  - Synonyms: ordinary least squares, OLS"
   ]
  },
  {
   "cell_type": "markdown",
   "id": "b13f4211",
   "metadata": {},
   "source": [
    "### The Regression Equation\n",
    "\n",
    "- Simple linear regression estimates how much Y will change when X changes by a certain amount.\n",
    "- With the correlation coefficient, the variables X and Y are interchangeable.\n",
    "- With regression, we are trying to predict the Y variable from X using a linear relationship (i.e., a line):\n",
    "  - $Y = b_0 + b_1X$\n",
    "- We read this as \"Y equals b1 times X, plus a constant b0.\"\n",
    "  - The symbol b0 is known as the intercept (or constant), and the symbol b1 as the slope for X.\n",
    "- The Y variable is known as the response or dependent variable since it depends on X.\n",
    "- The X variable is known as the predictor or independent variable.\n",
    "- The machine learning community tends to use other terms, calling Y the target and X a feature vector.\n"
   ]
  },
  {
   "cell_type": "markdown",
   "id": "8873bafd",
   "metadata": {},
   "source": [
    "### Fitted Values and Residuals\n",
    "\n",
    "- Important concepts in regression analysis are the fitted values (the predictions) and residuals (prediction errors).\n",
    "- In general, the data doesn't fall exactly on a line, so the regression equation should include an explicit error term ei:\n",
    "  - $Y_i = b_0 + b_1X_i + e_i$\n",
    "- The fitted values, also referred to as the predicted values, are typically denoted by $\\hat{Y}_i$ (Y-hat). These are given by:\n",
    "  - $\\hat{Y}_i = b_0 + b_1X_i$\n",
    "- The notation $\\hat{b}_0$ and $\\hat{b}_1$ indicates that the coefficients are estimated versus known.\n",
    "  - The \"hat\" notation is used to differentiate between estimates and known values. So the symbol $\\hat{b}$ (\"b-hat\") is an estimate of the unknown parameter b. Why do statisticians differentiate between the estimate and the true value? The estimate has uncertainty, whereas the true value is fixed.\n",
    "- We compute the residuals $e_i$ by subtracting the predicted values from the original data:\n",
    "  - $\\hat{e}_i = Y_i - \\hat{Y}_i$\n"
   ]
  },
  {
   "cell_type": "markdown",
   "id": "48961496",
   "metadata": {},
   "source": [
    "### Historical Use of Regression\n",
    "- Historically, a primary use of regression was to illuminate a supposed linear relationship between predictor variables and an outcome variable.\n",
    "- The primary focus in science and certain disciplines is on the estimated slope of the regression equation, b.\n",
    "  - The model is explainable (as opposed to a black box).\n",
    "  - Economists want to know the relationship between consumer spending and GDP growth.\n",
    "  - Management of ABC stores want to know whether contributing to promoting tourism translates to increased sales.\n",
    "- In such cases, the focus is not on predicting individual cases but rather on understanding the overall relationship among variables.\n",
    "\n"
   ]
  },
  {
   "cell_type": "markdown",
   "id": "810fba8f",
   "metadata": {},
   "source": [
    "### Machine Learning and Other Disciplines\n",
    "- In Machine Learning and other disciplines, regression is used to form a model to predict individual outcomes for new data.\n",
    "- In this instance, the main items of interest are the fitted values $\\hat{Y}$.\n",
    "  - In marketing, regression can be used to predict the change in revenue in response to the size of an ad campaign.\n",
    "  - Universities use regression to predict students' GPA based on their SAT scores.\n",
    "- See the paper [To Explain or to Predict?](https://projecteuclid.org/journals/statistical-science/volume-25/issue-3/To-Explain-or-to-Predict/10.1214/10-STS330.full)\n"
   ]
  },
  {
   "cell_type": "markdown",
   "id": "dfa6a475",
   "metadata": {},
   "source": [
    "\n",
    "### Simple Linear Regression: Key Ideas\n",
    "\n",
    "- The regression equation models the relationship between a response variable $Y$ and a predictor variable $X$ as a line.\n",
    "- A regression model yields fitted values and residuals—predictions of the response and the errors of the predictions.\n",
    "- Regression models are typically fit by the method of least squares.\n",
    "- Regression is used both for prediction and explanation."
   ]
  },
  {
   "cell_type": "markdown",
   "id": "258e3cb3",
   "metadata": {},
   "source": [
    "\n",
    "## Multiple Linear Regression\n",
    "\n",
    "- When there are multiple predictors, the equation is simply extended to accommodate them:\n",
    "\n",
    "$Y = b_0 + b_1X_1 + b_2X_2 + ... + b_pX_p + e$\n",
    "\n",
    "- Instead of a line, we now have a linear model—the relationship between each coefficient and its variable (feature) is linear."
   ]
  },
  {
   "cell_type": "markdown",
   "id": "8436781d",
   "metadata": {},
   "source": [
    "### Performance Metrics\n",
    "\n",
    "- Root mean squared error (RMSE): The square root of the average squared error of the regression (the most widely used metric to compare regression models).\n",
    "- Residual standard error (RSE): The same as the root mean squared error, but adjusted for degrees of freedom.\n",
    "- R-squared (R²): The proportion of variance explained by the model, from 0 to 1. Also known as the coefficient of determination.\n",
    "- t-statistic: The coefficient for a predictor, divided by the standard error of the coefficient, giving a metric to compare the importance of variables in the model.\n"
   ]
  },
  {
   "cell_type": "markdown",
   "id": "49d50e34",
   "metadata": {},
   "source": [
    "## Extending Simple Linear Regression Concepts\n",
    "\n",
    "- All of the other concepts in simple linear regression, such as fitting by least squares and the definition of fitted values and residuals, extend to the multiple linear regression setting. \n",
    "\n",
    "- Here, the model is a hyperplane, instead of a line\n",
    "\n",
    "- For example, the fitted values are given by:\n",
    "\n",
    "$\\hat{Y}_i = b_0 + b_1X_{1, i} + b_2X_{2, i} + ... + b_pX_{p, i}$"
   ]
  },
  {
   "cell_type": "markdown",
   "id": "eba9397f",
   "metadata": {},
   "source": [
    "\n",
    "## Example: King County Housing Data\n",
    "\n",
    "- An example of using multiple linear regression is in estimating the value of houses. \n",
    "  - County assessors must estimate the value of a house for the purposes of assessing taxes. \n",
    "  - Real estate professionals and home buyers consult popular websites such as Zillow to ascertain a fair price.\n"
   ]
  },
  {
   "cell_type": "markdown",
   "id": "fd36873c",
   "metadata": {},
   "source": []
  },
  {
   "cell_type": "code",
   "execution_count": 5,
   "id": "c7bea79c",
   "metadata": {},
   "outputs": [
    {
     "data": {
      "text/html": [
       "<div>\n",
       "<style scoped>\n",
       "    .dataframe tbody tr th:only-of-type {\n",
       "        vertical-align: middle;\n",
       "    }\n",
       "\n",
       "    .dataframe tbody tr th {\n",
       "        vertical-align: top;\n",
       "    }\n",
       "\n",
       "    .dataframe thead th {\n",
       "        text-align: right;\n",
       "    }\n",
       "</style>\n",
       "<table border=\"1\" class=\"dataframe\">\n",
       "  <thead>\n",
       "    <tr style=\"text-align: right;\">\n",
       "      <th></th>\n",
       "      <th>Unnamed: 0</th>\n",
       "      <th>id</th>\n",
       "      <th>date</th>\n",
       "      <th>price</th>\n",
       "      <th>bedrooms</th>\n",
       "      <th>bathrooms</th>\n",
       "      <th>sqft_living</th>\n",
       "      <th>sqft_lot</th>\n",
       "      <th>floors</th>\n",
       "      <th>waterfront</th>\n",
       "      <th>...</th>\n",
       "      <th>grade</th>\n",
       "      <th>sqft_above</th>\n",
       "      <th>sqft_basement</th>\n",
       "      <th>yr_built</th>\n",
       "      <th>yr_renovated</th>\n",
       "      <th>zipcode</th>\n",
       "      <th>lat</th>\n",
       "      <th>long</th>\n",
       "      <th>sqft_living15</th>\n",
       "      <th>sqft_lot15</th>\n",
       "    </tr>\n",
       "  </thead>\n",
       "  <tbody>\n",
       "    <tr>\n",
       "      <th>0</th>\n",
       "      <td>0</td>\n",
       "      <td>7129300520</td>\n",
       "      <td>20141013T000000</td>\n",
       "      <td>221900.0</td>\n",
       "      <td>3.0</td>\n",
       "      <td>1.00</td>\n",
       "      <td>1180</td>\n",
       "      <td>5650</td>\n",
       "      <td>1.0</td>\n",
       "      <td>0</td>\n",
       "      <td>...</td>\n",
       "      <td>7</td>\n",
       "      <td>1180</td>\n",
       "      <td>0</td>\n",
       "      <td>1955</td>\n",
       "      <td>0</td>\n",
       "      <td>98178</td>\n",
       "      <td>47.5112</td>\n",
       "      <td>-122.257</td>\n",
       "      <td>1340</td>\n",
       "      <td>5650</td>\n",
       "    </tr>\n",
       "    <tr>\n",
       "      <th>1</th>\n",
       "      <td>1</td>\n",
       "      <td>6414100192</td>\n",
       "      <td>20141209T000000</td>\n",
       "      <td>538000.0</td>\n",
       "      <td>3.0</td>\n",
       "      <td>2.25</td>\n",
       "      <td>2570</td>\n",
       "      <td>7242</td>\n",
       "      <td>2.0</td>\n",
       "      <td>0</td>\n",
       "      <td>...</td>\n",
       "      <td>7</td>\n",
       "      <td>2170</td>\n",
       "      <td>400</td>\n",
       "      <td>1951</td>\n",
       "      <td>1991</td>\n",
       "      <td>98125</td>\n",
       "      <td>47.7210</td>\n",
       "      <td>-122.319</td>\n",
       "      <td>1690</td>\n",
       "      <td>7639</td>\n",
       "    </tr>\n",
       "    <tr>\n",
       "      <th>2</th>\n",
       "      <td>2</td>\n",
       "      <td>5631500400</td>\n",
       "      <td>20150225T000000</td>\n",
       "      <td>180000.0</td>\n",
       "      <td>2.0</td>\n",
       "      <td>1.00</td>\n",
       "      <td>770</td>\n",
       "      <td>10000</td>\n",
       "      <td>1.0</td>\n",
       "      <td>0</td>\n",
       "      <td>...</td>\n",
       "      <td>6</td>\n",
       "      <td>770</td>\n",
       "      <td>0</td>\n",
       "      <td>1933</td>\n",
       "      <td>0</td>\n",
       "      <td>98028</td>\n",
       "      <td>47.7379</td>\n",
       "      <td>-122.233</td>\n",
       "      <td>2720</td>\n",
       "      <td>8062</td>\n",
       "    </tr>\n",
       "    <tr>\n",
       "      <th>3</th>\n",
       "      <td>3</td>\n",
       "      <td>2487200875</td>\n",
       "      <td>20141209T000000</td>\n",
       "      <td>604000.0</td>\n",
       "      <td>4.0</td>\n",
       "      <td>3.00</td>\n",
       "      <td>1960</td>\n",
       "      <td>5000</td>\n",
       "      <td>1.0</td>\n",
       "      <td>0</td>\n",
       "      <td>...</td>\n",
       "      <td>7</td>\n",
       "      <td>1050</td>\n",
       "      <td>910</td>\n",
       "      <td>1965</td>\n",
       "      <td>0</td>\n",
       "      <td>98136</td>\n",
       "      <td>47.5208</td>\n",
       "      <td>-122.393</td>\n",
       "      <td>1360</td>\n",
       "      <td>5000</td>\n",
       "    </tr>\n",
       "    <tr>\n",
       "      <th>4</th>\n",
       "      <td>4</td>\n",
       "      <td>1954400510</td>\n",
       "      <td>20150218T000000</td>\n",
       "      <td>510000.0</td>\n",
       "      <td>3.0</td>\n",
       "      <td>2.00</td>\n",
       "      <td>1680</td>\n",
       "      <td>8080</td>\n",
       "      <td>1.0</td>\n",
       "      <td>0</td>\n",
       "      <td>...</td>\n",
       "      <td>8</td>\n",
       "      <td>1680</td>\n",
       "      <td>0</td>\n",
       "      <td>1987</td>\n",
       "      <td>0</td>\n",
       "      <td>98074</td>\n",
       "      <td>47.6168</td>\n",
       "      <td>-122.045</td>\n",
       "      <td>1800</td>\n",
       "      <td>7503</td>\n",
       "    </tr>\n",
       "  </tbody>\n",
       "</table>\n",
       "<p>5 rows × 22 columns</p>\n",
       "</div>"
      ],
      "text/plain": [
       "   Unnamed: 0          id             date     price  bedrooms  bathrooms   \n",
       "0           0  7129300520  20141013T000000  221900.0       3.0       1.00  \\\n",
       "1           1  6414100192  20141209T000000  538000.0       3.0       2.25   \n",
       "2           2  5631500400  20150225T000000  180000.0       2.0       1.00   \n",
       "3           3  2487200875  20141209T000000  604000.0       4.0       3.00   \n",
       "4           4  1954400510  20150218T000000  510000.0       3.0       2.00   \n",
       "\n",
       "   sqft_living  sqft_lot  floors  waterfront  ...  grade  sqft_above   \n",
       "0         1180      5650     1.0           0  ...      7        1180  \\\n",
       "1         2570      7242     2.0           0  ...      7        2170   \n",
       "2          770     10000     1.0           0  ...      6         770   \n",
       "3         1960      5000     1.0           0  ...      7        1050   \n",
       "4         1680      8080     1.0           0  ...      8        1680   \n",
       "\n",
       "   sqft_basement  yr_built  yr_renovated  zipcode      lat     long   \n",
       "0              0      1955             0    98178  47.5112 -122.257  \\\n",
       "1            400      1951          1991    98125  47.7210 -122.319   \n",
       "2              0      1933             0    98028  47.7379 -122.233   \n",
       "3            910      1965             0    98136  47.5208 -122.393   \n",
       "4              0      1987             0    98074  47.6168 -122.045   \n",
       "\n",
       "   sqft_living15  sqft_lot15  \n",
       "0           1340        5650  \n",
       "1           1690        7639  \n",
       "2           2720        8062  \n",
       "3           1360        5000  \n",
       "4           1800        7503  \n",
       "\n",
       "[5 rows x 22 columns]"
      ]
     },
     "execution_count": 5,
     "metadata": {},
     "output_type": "execute_result"
    }
   ],
   "source": [
    "\n",
    "\n",
    "    \n",
    "    \n",
    "file_name='https://s3-api.us-geo.objectstorage.softlayer.net/cf-courses-data/CognitiveClass/DA0101EN/coursera/project/kc_house_data_NaN.csv'\n",
    "df=pd.read_csv(file_name)\n",
    "df = df.dropna()\n",
    "df.head()"
   ]
  },
  {
   "cell_type": "markdown",
   "id": "5396b742",
   "metadata": {},
   "source": [
    "### King County Housing Data\n",
    "\n",
    "| Column        | Description                                                                                                                     |\n",
    "|---------------|---------------------------------------------------------------------------------------------------------------------------------|\n",
    "| id            | A notation for a house                                                                                                          |\n",
    "| date          | Date house was sold                                                                                                             |\n",
    "| price         | Price is prediction target                                                                                                      |\n",
    "| bedrooms      | Number of bedrooms                                                                                                              |\n",
    "| bathrooms     | Number of bathrooms                                                                                                             |\n",
    "| sqft_living   | Square footage of the home                                                                                                      |\n",
    "| sqft_lot      | Square footage of the lot                                                                                                       |\n",
    "| floors        | Total floors (levels) in house                                                                                                  |\n",
    "| waterfront    | House which has a view to a waterfront                                                                                          |\n",
    "| view          | Has been viewed                                                                                                                 |\n",
    "| condition     | How good the condition is overall                                                                                               |\n",
    "| grade         | overall grade given to the housing unit, based on King County grading system                                                    |\n",
    "| sqft_above    | Square footage of house apart from basement                                                                                     |\n",
    "| sqft_basement | Square footage of the basement                                                                                                  |\n",
    "| yr_built      | Built Year                                                                                                                      |\n",
    "| yr_renovated  | Year when house was renovated                                                                                                   |\n",
    "| zipcode       | Zip code                                                                                                                        |\n",
    "| lat           | Latitude coordinate                                                                                                             |\n",
    "| long          | Longitude coordinate                                                                                                            |\n",
    "| sqft_living15 | Living room area in 2015(implies-- some renovations) This might or might not have affected the lotsize area                     |\n",
    "| sqft_lot15    | LotSize area in 2015(implies-- some renovations)                                                                                |"
   ]
  },
  {
   "cell_type": "code",
   "execution_count": 37,
   "id": "496b4514",
   "metadata": {},
   "outputs": [
    {
     "data": {
      "text/html": [
       "<style>#sk-container-id-5 {color: black;}#sk-container-id-5 pre{padding: 0;}#sk-container-id-5 div.sk-toggleable {background-color: white;}#sk-container-id-5 label.sk-toggleable__label {cursor: pointer;display: block;width: 100%;margin-bottom: 0;padding: 0.3em;box-sizing: border-box;text-align: center;}#sk-container-id-5 label.sk-toggleable__label-arrow:before {content: \"▸\";float: left;margin-right: 0.25em;color: #696969;}#sk-container-id-5 label.sk-toggleable__label-arrow:hover:before {color: black;}#sk-container-id-5 div.sk-estimator:hover label.sk-toggleable__label-arrow:before {color: black;}#sk-container-id-5 div.sk-toggleable__content {max-height: 0;max-width: 0;overflow: hidden;text-align: left;background-color: #f0f8ff;}#sk-container-id-5 div.sk-toggleable__content pre {margin: 0.2em;color: black;border-radius: 0.25em;background-color: #f0f8ff;}#sk-container-id-5 input.sk-toggleable__control:checked~div.sk-toggleable__content {max-height: 200px;max-width: 100%;overflow: auto;}#sk-container-id-5 input.sk-toggleable__control:checked~label.sk-toggleable__label-arrow:before {content: \"▾\";}#sk-container-id-5 div.sk-estimator input.sk-toggleable__control:checked~label.sk-toggleable__label {background-color: #d4ebff;}#sk-container-id-5 div.sk-label input.sk-toggleable__control:checked~label.sk-toggleable__label {background-color: #d4ebff;}#sk-container-id-5 input.sk-hidden--visually {border: 0;clip: rect(1px 1px 1px 1px);clip: rect(1px, 1px, 1px, 1px);height: 1px;margin: -1px;overflow: hidden;padding: 0;position: absolute;width: 1px;}#sk-container-id-5 div.sk-estimator {font-family: monospace;background-color: #f0f8ff;border: 1px dotted black;border-radius: 0.25em;box-sizing: border-box;margin-bottom: 0.5em;}#sk-container-id-5 div.sk-estimator:hover {background-color: #d4ebff;}#sk-container-id-5 div.sk-parallel-item::after {content: \"\";width: 100%;border-bottom: 1px solid gray;flex-grow: 1;}#sk-container-id-5 div.sk-label:hover label.sk-toggleable__label {background-color: #d4ebff;}#sk-container-id-5 div.sk-serial::before {content: \"\";position: absolute;border-left: 1px solid gray;box-sizing: border-box;top: 0;bottom: 0;left: 50%;z-index: 0;}#sk-container-id-5 div.sk-serial {display: flex;flex-direction: column;align-items: center;background-color: white;padding-right: 0.2em;padding-left: 0.2em;position: relative;}#sk-container-id-5 div.sk-item {position: relative;z-index: 1;}#sk-container-id-5 div.sk-parallel {display: flex;align-items: stretch;justify-content: center;background-color: white;position: relative;}#sk-container-id-5 div.sk-item::before, #sk-container-id-5 div.sk-parallel-item::before {content: \"\";position: absolute;border-left: 1px solid gray;box-sizing: border-box;top: 0;bottom: 0;left: 50%;z-index: -1;}#sk-container-id-5 div.sk-parallel-item {display: flex;flex-direction: column;z-index: 1;position: relative;background-color: white;}#sk-container-id-5 div.sk-parallel-item:first-child::after {align-self: flex-end;width: 50%;}#sk-container-id-5 div.sk-parallel-item:last-child::after {align-self: flex-start;width: 50%;}#sk-container-id-5 div.sk-parallel-item:only-child::after {width: 0;}#sk-container-id-5 div.sk-dashed-wrapped {border: 1px dashed gray;margin: 0 0.4em 0.5em 0.4em;box-sizing: border-box;padding-bottom: 0.4em;background-color: white;}#sk-container-id-5 div.sk-label label {font-family: monospace;font-weight: bold;display: inline-block;line-height: 1.2em;}#sk-container-id-5 div.sk-label-container {text-align: center;}#sk-container-id-5 div.sk-container {/* jupyter's `normalize.less` sets `[hidden] { display: none; }` but bootstrap.min.css set `[hidden] { display: none !important; }` so we also need the `!important` here to be able to override the default hidden behavior on the sphinx rendered scikit-learn.org. See: https://github.com/scikit-learn/scikit-learn/issues/21755 */display: inline-block !important;position: relative;}#sk-container-id-5 div.sk-text-repr-fallback {display: none;}</style><div id=\"sk-container-id-5\" class=\"sk-top-container\"><div class=\"sk-text-repr-fallback\"><pre>LinearRegression(fit_intercept=False)</pre><b>In a Jupyter environment, please rerun this cell to show the HTML representation or trust the notebook. <br />On GitHub, the HTML representation is unable to render, please try loading this page with nbviewer.org.</b></div><div class=\"sk-container\" hidden><div class=\"sk-item\"><div class=\"sk-estimator sk-toggleable\"><input class=\"sk-toggleable__control sk-hidden--visually\" id=\"sk-estimator-id-5\" type=\"checkbox\" checked><label for=\"sk-estimator-id-5\" class=\"sk-toggleable__label sk-toggleable__label-arrow\">LinearRegression</label><div class=\"sk-toggleable__content\"><pre>LinearRegression(fit_intercept=False)</pre></div></div></div></div></div>"
      ],
      "text/plain": [
       "LinearRegression(fit_intercept=False)"
      ]
     },
     "execution_count": 37,
     "metadata": {},
     "output_type": "execute_result"
    }
   ],
   "source": [
    "from sklearn.linear_model import LinearRegression\n",
    "predictors = ['sqft_living15', 'sqft_lot15', 'bathrooms', 'bedrooms', 'grade']\n",
    "outcome = 'price'\n",
    "house_lm = LinearRegression(fit_intercept=False)\n",
    "house_lm.fit(df[predictors], df[outcome])"
   ]
  },
  {
   "cell_type": "code",
   "execution_count": 38,
   "id": "86b04548",
   "metadata": {},
   "outputs": [
    {
     "name": "stdout",
     "output_type": "stream",
     "text": [
      "LinearRegression(fit_intercept=False)\n"
     ]
    }
   ],
   "source": [
    "print(house_lm)"
   ]
  },
  {
   "cell_type": "code",
   "execution_count": 39,
   "id": "6be6884e",
   "metadata": {},
   "outputs": [
    {
     "data": {
      "text/plain": [
       "0.0"
      ]
     },
     "execution_count": 39,
     "metadata": {},
     "output_type": "execute_result"
    }
   ],
   "source": [
    "house_lm.intercept_"
   ]
  },
  {
   "cell_type": "code",
   "execution_count": 40,
   "id": "cbd379ad",
   "metadata": {},
   "outputs": [
    {
     "data": {
      "text/plain": [
       "array([   187.67630277,     -0.31098733, 122782.88040016, -45991.44743304,\n",
       "        10594.42932037])"
      ]
     },
     "execution_count": 40,
     "metadata": {},
     "output_type": "execute_result"
    }
   ],
   "source": [
    "house_lm.coef_"
   ]
  },
  {
   "cell_type": "markdown",
   "id": "83027b40",
   "metadata": {},
   "source": [
    "The interpretation of the coefficients is as with simple linear regression: the predicted value $Y$ changes by the coefficient $b_j$ for each unit change in $X_j$ assuming all the other variables, $X_k$ for $k \\neq j$, remain the same. For example, adding an extra finished square foot to a house increases the estimated value by roughly $187.67; adding 1,000 finished square feet implies the value will increase by $187,670.\n"
   ]
  },
  {
   "cell_type": "markdown",
   "id": "d86bd57b",
   "metadata": {},
   "source": [
    "### Root Mean Squared Error (RMSE)\n",
    "\n",
    "The most important performance metric from a data science perspective is root mean squared error, or RMSE. RMSE is the square root of the average squared error in the predicted $\\hat{y}_i$ values:\n",
    "\n",
    "$RMSE = \\sqrt{\\frac{\\sum_{i=1}^n (y_i - \\hat{y}_i)^2}{n}}$\n",
    "\n",
    "This measures the overall accuracy of the model and is a basis for comparing it to other models (including models fit using machine learning techniques).\n"
   ]
  },
  {
   "cell_type": "markdown",
   "id": "9415755d",
   "metadata": {},
   "source": [
    "### Residual Standard Error (RSE)\n",
    "\n",
    "Similar to RMSE is the residual standard error, or RSE. In this case we have $p$ predictors, and the RSE is given by:\n",
    "\n",
    "$RSE = \\sqrt{\\frac{\\sum_{i=1}^n (y_i - \\hat{y}_i)^2}{n - p - 1}}$\n",
    "\n",
    "The only difference is that the denominator is the degrees of freedom, as opposed to the number of records.\n"
   ]
  },
  {
   "cell_type": "markdown",
   "id": "726825ac",
   "metadata": {},
   "source": [
    "## Coefficient of Determination (R²)\n",
    "\n",
    "- Another useful metric is the coefficient of determination, also called the R-squared statistic or $R^2$. \n",
    "  - Ranges from 0 to 1 and measures the proportion of variation in the data that is accounted for in the model. The formula for $R^2$ is:\n",
    "\n",
    "$R^2 = 1 - \\frac{\\sum_{i=1}^n (y_i - \\hat{y}_i)^2}{\\sum_{i=1}^n (y_i - \\bar{y})^2}$\n",
    "\n",
    "- The denominator is proportional to the variance of $Y$. "
   ]
  },
  {
   "cell_type": "markdown",
   "id": "a8b9a0c4",
   "metadata": {},
   "source": [
    "### t-Statistic and p-Value\n",
    "\n",
    "* The t-statistic—and its mirror image, the p-value—measures the extent to which a coefficient is \"statistically\n",
    "\n",
    "- Note: Data scientists do not generally get too involved with the interpretation of these statistics, nor with the issue of statistical significance. \n",
    "  * primarily focus on the t-statistic as a useful guide for whether to include a predictor in a model or not. \n",
    "    * High t-statistics (which go with p-values near 0) indicate a predictor should be retained in a model\n",
    "    * Very low t-statistics indicate a predictor could be dropped."
   ]
  },
  {
   "cell_type": "code",
   "execution_count": null,
   "id": "3cd5c1d6",
   "metadata": {},
   "outputs": [],
   "source": [
    "import statsmodels.api as sm\n",
    "model = sm.OLS(df[outcome], df[predictors])\n",
    "results = model.fit()\n",
    "results.summary()"
   ]
  },
  {
   "cell_type": "code",
   "execution_count": 36,
   "id": "d92e6625",
   "metadata": {},
   "outputs": [
    {
     "data": {
      "text/html": [
       "<table class=\"simpletable\">\n",
       "<caption>OLS Regression Results</caption>\n",
       "<tr>\n",
       "  <th>Dep. Variable:</th>          <td>price</td>      <th>  R-squared (uncentered):</th>       <td>   0.805</td>  \n",
       "</tr>\n",
       "<tr>\n",
       "  <th>Model:</th>                   <td>OLS</td>       <th>  Adj. R-squared (uncentered):</th>  <td>   0.805</td>  \n",
       "</tr>\n",
       "<tr>\n",
       "  <th>Method:</th>             <td>Least Squares</td>  <th>  F-statistic:       </th>           <td>1.784e+04</td> \n",
       "</tr>\n",
       "<tr>\n",
       "  <th>Date:</th>             <td>Wed, 27 Mar 2024</td> <th>  Prob (F-statistic):</th>            <td>  0.00</td>   \n",
       "</tr>\n",
       "<tr>\n",
       "  <th>Time:</th>                 <td>11:23:18</td>     <th>  Log-Likelihood:    </th>          <td>-3.0216e+05</td>\n",
       "</tr>\n",
       "<tr>\n",
       "  <th>No. Observations:</th>      <td> 21597</td>      <th>  AIC:               </th>           <td>6.043e+05</td> \n",
       "</tr>\n",
       "<tr>\n",
       "  <th>Df Residuals:</th>          <td> 21592</td>      <th>  BIC:               </th>           <td>6.044e+05</td> \n",
       "</tr>\n",
       "<tr>\n",
       "  <th>Df Model:</th>              <td>     5</td>      <th>                     </th>               <td> </td>     \n",
       "</tr>\n",
       "<tr>\n",
       "  <th>Covariance Type:</th>      <td>nonrobust</td>    <th>                     </th>               <td> </td>     \n",
       "</tr>\n",
       "</table>\n",
       "<table class=\"simpletable\">\n",
       "<tr>\n",
       "        <td></td>           <th>coef</th>     <th>std err</th>      <th>t</th>      <th>P>|t|</th>  <th>[0.025</th>    <th>0.975]</th>  \n",
       "</tr>\n",
       "<tr>\n",
       "  <th>sqft_living15</th> <td>  187.6763</td> <td>    4.018</td> <td>   46.712</td> <td> 0.000</td> <td>  179.801</td> <td>  195.551</td>\n",
       "</tr>\n",
       "<tr>\n",
       "  <th>sqft_lot15</th>    <td>   -0.3110</td> <td>    0.073</td> <td>   -4.245</td> <td> 0.000</td> <td>   -0.455</td> <td>   -0.167</td>\n",
       "</tr>\n",
       "<tr>\n",
       "  <th>bathrooms</th>     <td> 1.228e+05</td> <td> 3527.657</td> <td>   34.806</td> <td> 0.000</td> <td> 1.16e+05</td> <td>  1.3e+05</td>\n",
       "</tr>\n",
       "<tr>\n",
       "  <th>bedrooms</th>      <td>-4.599e+04</td> <td> 2333.164</td> <td>  -19.712</td> <td> 0.000</td> <td>-5.06e+04</td> <td>-4.14e+04</td>\n",
       "</tr>\n",
       "<tr>\n",
       "  <th>grade</th>         <td> 1.059e+04</td> <td> 1413.114</td> <td>    7.497</td> <td> 0.000</td> <td> 7824.622</td> <td> 1.34e+04</td>\n",
       "</tr>\n",
       "</table>\n",
       "<table class=\"simpletable\">\n",
       "<tr>\n",
       "  <th>Omnibus:</th>       <td>20449.378</td> <th>  Durbin-Watson:     </th>  <td>   1.972</td>  \n",
       "</tr>\n",
       "<tr>\n",
       "  <th>Prob(Omnibus):</th>  <td> 0.000</td>   <th>  Jarque-Bera (JB):  </th> <td>1907303.443</td>\n",
       "</tr>\n",
       "<tr>\n",
       "  <th>Skew:</th>           <td> 4.326</td>   <th>  Prob(JB):          </th>  <td>    0.00</td>  \n",
       "</tr>\n",
       "<tr>\n",
       "  <th>Kurtosis:</th>       <td>48.218</td>   <th>  Cond. No.          </th>  <td>5.59e+04</td>  \n",
       "</tr>\n",
       "</table><br/><br/>Notes:<br/>[1] R² is computed without centering (uncentered) since the model does not contain a constant.<br/>[2] Standard Errors assume that the covariance matrix of the errors is correctly specified.<br/>[3] The condition number is large, 5.59e+04. This might indicate that there are<br/>strong multicollinearity or other numerical problems."
      ],
      "text/latex": [
       "\\begin{center}\n",
       "\\begin{tabular}{lclc}\n",
       "\\toprule\n",
       "\\textbf{Dep. Variable:}    &      price       & \\textbf{  R-squared (uncentered):}      &      0.805   \\\\\n",
       "\\textbf{Model:}            &       OLS        & \\textbf{  Adj. R-squared (uncentered):} &      0.805   \\\\\n",
       "\\textbf{Method:}           &  Least Squares   & \\textbf{  F-statistic:       }          &  1.784e+04   \\\\\n",
       "\\textbf{Date:}             & Wed, 27 Mar 2024 & \\textbf{  Prob (F-statistic):}          &      0.00    \\\\\n",
       "\\textbf{Time:}             &     11:23:18     & \\textbf{  Log-Likelihood:    }          & -3.0216e+05  \\\\\n",
       "\\textbf{No. Observations:} &       21597      & \\textbf{  AIC:               }          &  6.043e+05   \\\\\n",
       "\\textbf{Df Residuals:}     &       21592      & \\textbf{  BIC:               }          &  6.044e+05   \\\\\n",
       "\\textbf{Df Model:}         &           5      & \\textbf{                     }          &              \\\\\n",
       "\\textbf{Covariance Type:}  &    nonrobust     & \\textbf{                     }          &              \\\\\n",
       "\\bottomrule\n",
       "\\end{tabular}\n",
       "\\begin{tabular}{lcccccc}\n",
       "                        & \\textbf{coef} & \\textbf{std err} & \\textbf{t} & \\textbf{P$> |$t$|$} & \\textbf{[0.025} & \\textbf{0.975]}  \\\\\n",
       "\\midrule\n",
       "\\textbf{sqft\\_living15} &     187.6763  &        4.018     &    46.712  &         0.000        &      179.801    &      195.551     \\\\\n",
       "\\textbf{sqft\\_lot15}    &      -0.3110  &        0.073     &    -4.245  &         0.000        &       -0.455    &       -0.167     \\\\\n",
       "\\textbf{bathrooms}      &    1.228e+05  &     3527.657     &    34.806  &         0.000        &     1.16e+05    &      1.3e+05     \\\\\n",
       "\\textbf{bedrooms}       &   -4.599e+04  &     2333.164     &   -19.712  &         0.000        &    -5.06e+04    &    -4.14e+04     \\\\\n",
       "\\textbf{grade}          &    1.059e+04  &     1413.114     &     7.497  &         0.000        &     7824.622    &     1.34e+04     \\\\\n",
       "\\bottomrule\n",
       "\\end{tabular}\n",
       "\\begin{tabular}{lclc}\n",
       "\\textbf{Omnibus:}       & 20449.378 & \\textbf{  Durbin-Watson:     } &      1.972   \\\\\n",
       "\\textbf{Prob(Omnibus):} &    0.000  & \\textbf{  Jarque-Bera (JB):  } & 1907303.443  \\\\\n",
       "\\textbf{Skew:}          &    4.326  & \\textbf{  Prob(JB):          } &       0.00   \\\\\n",
       "\\textbf{Kurtosis:}      &   48.218  & \\textbf{  Cond. No.          } &   5.59e+04   \\\\\n",
       "\\bottomrule\n",
       "\\end{tabular}\n",
       "%\\caption{OLS Regression Results}\n",
       "\\end{center}\n",
       "\n",
       "Notes: \\newline\n",
       " [1] R² is computed without centering (uncentered) since the model does not contain a constant. \\newline\n",
       " [2] Standard Errors assume that the covariance matrix of the errors is correctly specified. \\newline\n",
       " [3] The condition number is large, 5.59e+04. This might indicate that there are \\newline\n",
       " strong multicollinearity or other numerical problems."
      ],
      "text/plain": [
       "<class 'statsmodels.iolib.summary.Summary'>\n",
       "\"\"\"\n",
       "                                 OLS Regression Results                                \n",
       "=======================================================================================\n",
       "Dep. Variable:                  price   R-squared (uncentered):                   0.805\n",
       "Model:                            OLS   Adj. R-squared (uncentered):              0.805\n",
       "Method:                 Least Squares   F-statistic:                          1.784e+04\n",
       "Date:                Wed, 27 Mar 2024   Prob (F-statistic):                        0.00\n",
       "Time:                        11:23:18   Log-Likelihood:                     -3.0216e+05\n",
       "No. Observations:               21597   AIC:                                  6.043e+05\n",
       "Df Residuals:                   21592   BIC:                                  6.044e+05\n",
       "Df Model:                           5                                                  \n",
       "Covariance Type:            nonrobust                                                  \n",
       "=================================================================================\n",
       "                    coef    std err          t      P>|t|      [0.025      0.975]\n",
       "---------------------------------------------------------------------------------\n",
       "sqft_living15   187.6763      4.018     46.712      0.000     179.801     195.551\n",
       "sqft_lot15       -0.3110      0.073     -4.245      0.000      -0.455      -0.167\n",
       "bathrooms      1.228e+05   3527.657     34.806      0.000    1.16e+05     1.3e+05\n",
       "bedrooms      -4.599e+04   2333.164    -19.712      0.000   -5.06e+04   -4.14e+04\n",
       "grade          1.059e+04   1413.114      7.497      0.000    7824.622    1.34e+04\n",
       "==============================================================================\n",
       "Omnibus:                    20449.378   Durbin-Watson:                   1.972\n",
       "Prob(Omnibus):                  0.000   Jarque-Bera (JB):          1907303.443\n",
       "Skew:                           4.326   Prob(JB):                         0.00\n",
       "Kurtosis:                      48.218   Cond. No.                     5.59e+04\n",
       "==============================================================================\n",
       "\n",
       "Notes:\n",
       "[1] R² is computed without centering (uncentered) since the model does not contain a constant.\n",
       "[2] Standard Errors assume that the covariance matrix of the errors is correctly specified.\n",
       "[3] The condition number is large, 5.59e+04. This might indicate that there are\n",
       "strong multicollinearity or other numerical problems.\n",
       "\"\"\""
      ]
     },
     "execution_count": 36,
     "metadata": {},
     "output_type": "execute_result"
    }
   ],
   "source": [
    "import statsmodels.api as sm\n",
    "model = sm.OLS(df[outcome], df[predictors])\n",
    "results = model.fit()\n",
    "results.summary()"
   ]
  },
  {
   "cell_type": "code",
   "execution_count": null,
   "id": "94a3b5ec",
   "metadata": {},
   "outputs": [],
   "source": []
  },
  {
   "cell_type": "code",
   "execution_count": null,
   "id": "b2145748",
   "metadata": {},
   "outputs": [],
   "source": []
  }
 ],
 "metadata": {
  "kernelspec": {
   "display_name": "Python 3 (ipykernel)",
   "language": "python",
   "name": "python3"
  },
  "language_info": {
   "codemirror_mode": {
    "name": "ipython",
    "version": 3
   },
   "file_extension": ".py",
   "mimetype": "text/x-python",
   "name": "python",
   "nbconvert_exporter": "python",
   "pygments_lexer": "ipython3",
   "version": "3.9.16"
  }
 },
 "nbformat": 4,
 "nbformat_minor": 5
}
